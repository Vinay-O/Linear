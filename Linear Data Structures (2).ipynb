{
 "cells": [
  {
   "cell_type": "code",
   "execution_count": 1,
   "id": "d9bf033a",
   "metadata": {},
   "outputs": [
    {
     "name": "stdout",
     "output_type": "stream",
     "text": [
      "[(1, 9), (2, 8), (3, 7), (4, 6)]\n"
     ]
    }
   ],
   "source": [
    "def find_pairs(array, target):\n",
    "  pairs = []\n",
    "  for i in range(len(array)):\n",
    "    for j in range(i + 1, len(array)):\n",
    "      if array[i] + array[j] == target:\n",
    "        pairs.append((array[i], array[j]))\n",
    "  return pairs\n",
    "\n",
    "\n",
    "if __name__ == \"__main__\":\n",
    "  array = [1, 2, 3, 4, 5, 6, 7, 8, 9]\n",
    "  target = 10\n",
    "  pairs = find_pairs(array, target)\n",
    "  print(pairs)\n"
   ]
  },
  {
   "cell_type": "code",
   "execution_count": 2,
   "id": "a64cf79b",
   "metadata": {},
   "outputs": [
    {
     "name": "stdout",
     "output_type": "stream",
     "text": [
      "[5, 4, 3, 2, 1]\n"
     ]
    }
   ],
   "source": [
    "def reverse_array(array):\n",
    "  for i in range(len(array) // 2):\n",
    "    temp = array[i]\n",
    "    array[i] = array[len(array) - 1 - i]\n",
    "    array[len(array) - 1 - i] = temp\n",
    "\n",
    "\n",
    "if __name__ == \"__main__\":\n",
    "  array = [1, 2, 3, 4, 5]\n",
    "  reverse_array(array)\n",
    "  print(array)\n"
   ]
  },
  {
   "cell_type": "code",
   "execution_count": 3,
   "id": "f4195ea3",
   "metadata": {},
   "outputs": [
    {
     "name": "stdout",
     "output_type": "stream",
     "text": [
      "True\n"
     ]
    }
   ],
   "source": [
    "def is_rotation(string1, string2):\n",
    "  if len(string1) != len(string2):\n",
    "    return False\n",
    "\n",
    "  for i in range(len(string1)):\n",
    "    if string1[i:] + string1[:i] == string2:\n",
    "      return True\n",
    "\n",
    "  return False\n",
    "\n",
    "\n",
    "if __name__ == \"__main__\":\n",
    "  string1 = \"waterbottle\"\n",
    "  string2 = \"erbottlewat\"\n",
    "  print(is_rotation(string1, string2))\n"
   ]
  },
  {
   "cell_type": "code",
   "execution_count": 4,
   "id": "8ac18b77",
   "metadata": {},
   "outputs": [
    {
     "name": "stdout",
     "output_type": "stream",
     "text": [
      "h\n"
     ]
    }
   ],
   "source": [
    "def first_non_repeated_character(string):\n",
    "  seen = set()\n",
    "  for i in range(len(string)):\n",
    "    if string[i] not in seen:\n",
    "      seen.add(string[i])\n",
    "      return string[i]\n",
    "\n",
    "  return None\n",
    "\n",
    "\n",
    "if __name__ == \"__main__\":\n",
    "  string = \"helloworld\"\n",
    "  print(first_non_repeated_character(string))\n"
   ]
  },
  {
   "cell_type": "code",
   "execution_count": 5,
   "id": "9c4b3c9d",
   "metadata": {},
   "outputs": [
    {
     "name": "stdout",
     "output_type": "stream",
     "text": [
      "Move disk 1 from A to C\n",
      "Move disk 2 from A to B\n",
      "Move disk 1 from C to B\n",
      "Move disk 3 from A to C\n",
      "Move disk 1 from B to A\n",
      "Move disk 2 from B to C\n",
      "Move disk 1 from A to C\n"
     ]
    }
   ],
   "source": [
    "def tower_of_hanoi(n, source, auxiliary, destination):\n",
    "  if n == 1:\n",
    "    print(\"Move disk 1 from {} to {}\".format(source, destination))\n",
    "  else:\n",
    "    tower_of_hanoi(n - 1, source, destination, auxiliary)\n",
    "    print(\"Move disk {} from {} to {}\".format(n, source, destination))\n",
    "    tower_of_hanoi(n - 1, auxiliary, source, destination)\n",
    "\n",
    "\n",
    "if __name__ == \"__main__\":\n",
    "  tower_of_hanoi(3, \"A\", \"B\", \"C\")\n"
   ]
  },
  {
   "cell_type": "code",
   "execution_count": 9,
   "id": "9cdfae76",
   "metadata": {},
   "outputs": [
    {
     "name": "stdout",
     "output_type": "stream",
     "text": [
      "*-DC+BA/FE\n"
     ]
    }
   ],
   "source": [
    "def postfix_to_prefix(expression):\n",
    "  stack = []\n",
    "  for token in expression:\n",
    "    if token.isalpha():\n",
    "      stack.append(token)\n",
    "    else:\n",
    "      operand1 = stack.pop()\n",
    "      operand2 = stack.pop()\n",
    "      stack.append(token + operand1 + operand2)\n",
    "\n",
    "  return \"\".join(stack)\n",
    "\n",
    "\n",
    "if __name__ == \"__main__\":\n",
    "  expression = \"AB+CD-*EF/\"\n",
    "  print(postfix_to_prefix(expression))"
   ]
  },
  {
   "cell_type": "code",
   "execution_count": 19,
   "id": "41857ba0",
   "metadata": {},
   "outputs": [
    {
     "name": "stdout",
     "output_type": "stream",
     "text": [
      "(E/F)((A+B)*(C-D))\n"
     ]
    }
   ],
   "source": [
    "def prefix_to_infix(expression):\n",
    "    stack = []\n",
    "    for token in reversed(expression):\n",
    "        if token.isalnum():\n",
    "            stack.append(token)\n",
    "        else:\n",
    "            if stack:\n",
    "                operand1 = stack.pop()\n",
    "                operand2 = stack.pop()\n",
    "                stack.append(\"(\" + operand1 + token + operand2 + \")\")\n",
    "            else:\n",
    "                return \"Invalid expression: Not enough operands for operator \" + token\n",
    "\n",
    "    return \"\".join(stack)\n",
    "\n",
    "\n",
    "if __name__ == \"__main__\":\n",
    "    expression = \"*+AB-CD/EF\"\n",
    "    print(prefix_to_infix(expression))\n"
   ]
  },
  {
   "cell_type": "code",
   "execution_count": 12,
   "id": "d144991a",
   "metadata": {},
   "outputs": [
    {
     "name": "stdout",
     "output_type": "stream",
     "text": [
      "[5, 4, 3, 2, 1]\n"
     ]
    }
   ],
   "source": [
    "def reverse_stack(stack):\n",
    "  temp_stack = []\n",
    "  while len(stack) > 0:\n",
    "    temp_stack.append(stack.pop())\n",
    "\n",
    "  for item in temp_stack:\n",
    "    stack.append(item)\n",
    "\n",
    "\n",
    "if __name__ == \"__main__\":\n",
    "  stack = [1, 2, 3, 4, 5]\n",
    "  reverse_stack(stack)\n",
    "  print(stack)\n"
   ]
  },
  {
   "cell_type": "code",
   "execution_count": 13,
   "id": "c1dce9f9",
   "metadata": {},
   "outputs": [
    {
     "name": "stdout",
     "output_type": "stream",
     "text": [
      "2\n"
     ]
    }
   ],
   "source": [
    "def find_smallest_number_using_stack(numbers):\n",
    "  stack = []\n",
    "  smallest_number = None\n",
    "  for number in numbers:\n",
    "    if len(stack) == 0:\n",
    "      smallest_number = number\n",
    "    elif number < smallest_number:\n",
    "      smallest_number = number\n",
    "\n",
    "    stack.append(number)\n",
    "\n",
    "  while len(stack) > 0:\n",
    "    number = stack.pop()\n",
    "    if number == smallest_number:\n",
    "      return smallest_number\n",
    "\n",
    "\n",
    "if __name__ == \"__main__\":\n",
    "  numbers = [10, 4, 2, 9, 7, 5]\n",
    "  print(find_smallest_number_using_stack(numbers))\n"
   ]
  },
  {
   "cell_type": "code",
   "execution_count": null,
   "id": "2f4e1907",
   "metadata": {},
   "outputs": [],
   "source": []
  }
 ],
 "metadata": {
  "kernelspec": {
   "display_name": "Python 3 (ipykernel)",
   "language": "python",
   "name": "python3"
  },
  "language_info": {
   "codemirror_mode": {
    "name": "ipython",
    "version": 3
   },
   "file_extension": ".py",
   "mimetype": "text/x-python",
   "name": "python",
   "nbconvert_exporter": "python",
   "pygments_lexer": "ipython3",
   "version": "3.10.9"
  }
 },
 "nbformat": 4,
 "nbformat_minor": 5
}
